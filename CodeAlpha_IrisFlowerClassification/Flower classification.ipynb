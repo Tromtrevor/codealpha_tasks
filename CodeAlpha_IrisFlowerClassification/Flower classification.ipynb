{
 "cells": [
  {
   "cell_type": "code",
   "execution_count": 2,
   "id": "54b10ba1-7ae8-4eeb-b35d-50b1f31d5b28",
   "metadata": {
    "execution": {
     "iopub.execute_input": "2025-10-15T23:45:49.798795Z",
     "iopub.status.busy": "2025-10-15T23:45:49.798321Z",
     "iopub.status.idle": "2025-10-15T23:45:52.628269Z",
     "shell.execute_reply": "2025-10-15T23:45:52.627650Z",
     "shell.execute_reply.started": "2025-10-15T23:45:49.798761Z"
    }
   },
   "outputs": [],
   "source": [
    "import pandas as pd\n",
    "from sklearn.model_selection import train_test_split\n",
    "from sklearn.preprocessing import LabelEncoder\n",
    "from sklearn.metrics import accuracy_score\n",
    "from sklearn.neighbors import KNeighborsClassifier\n",
    "from sklearn.linear_model import LogisticRegression"
   ]
  },
  {
   "cell_type": "code",
   "execution_count": 3,
   "id": "1f65241a-2704-43a6-85e1-edab9b90af44",
   "metadata": {
    "execution": {
     "iopub.execute_input": "2025-10-15T23:45:52.631058Z",
     "iopub.status.busy": "2025-10-15T23:45:52.630066Z",
     "iopub.status.idle": "2025-10-15T23:45:52.660719Z",
     "shell.execute_reply": "2025-10-15T23:45:52.659962Z",
     "shell.execute_reply.started": "2025-10-15T23:45:52.631003Z"
    }
   },
   "outputs": [],
   "source": [
    "df = pd.read_csv('Iris.csv', index_col='Id')\n",
    "df.dropna(inplace=True)"
   ]
  },
  {
   "cell_type": "code",
   "execution_count": 103,
   "id": "e233b014-5deb-444f-9604-ba69be1454c3",
   "metadata": {},
   "outputs": [],
   "source": [
    "#Data to Target and variables \n",
    "X = df.drop(columns='Species')\n",
    "Y = df['Species']\n",
    "#Encode Target\n",
    "encoder = LabelEncoder()\n",
    "Y = encoder.fit_transform(Y)"
   ]
  },
  {
   "cell_type": "code",
   "execution_count": 106,
   "id": "f37f12e2-4216-4a31-9ebc-5e26fc866932",
   "metadata": {},
   "outputs": [
    {
     "name": "stdout",
     "output_type": "stream",
     "text": [
      "KNeighborsClassifier\n",
      "Model Accuracy: 1.0\n",
      "Perforance in percentage: 100.0\n",
      "\n",
      "LogisticRegression\n",
      "Model Accuracy: 1.0\n",
      "Perforance in percentage: 100.0\n",
      "\n"
     ]
    }
   ],
   "source": [
    "x_train, x_test, y_train, y_test = train_test_split(X,Y, test_size=0.3, random_state=42)\n",
    "models = [KNeighborsClassifier(), LogisticRegression()]\n",
    "for model in models:\n",
    "    model.fit(x_train, y_train)\n",
    "    y_pred = model.predict(x_test)\n",
    "    \n",
    "    score = model.score(x_test,y_test)\n",
    "    accuracy = accuracy_score(y_test,y_pred)\n",
    "    model_name = str(model)[:-2]\n",
    "    \n",
    "    print(f\"{model_name}\")\n",
    "    print(f\"Model Accuracy: {score}\")\n",
    "    print(f\"Perforance in percentage: {accuracy*100}\\n\")"
   ]
  }
 ],
 "metadata": {
  "kernelspec": {
   "display_name": "Python 3 (ipykernel)",
   "language": "python",
   "name": "python3"
  },
  "language_info": {
   "codemirror_mode": {
    "name": "ipython",
    "version": 3
   },
   "file_extension": ".py",
   "mimetype": "text/x-python",
   "name": "python",
   "nbconvert_exporter": "python",
   "pygments_lexer": "ipython3",
   "version": "3.13.7"
  }
 },
 "nbformat": 4,
 "nbformat_minor": 5
}
